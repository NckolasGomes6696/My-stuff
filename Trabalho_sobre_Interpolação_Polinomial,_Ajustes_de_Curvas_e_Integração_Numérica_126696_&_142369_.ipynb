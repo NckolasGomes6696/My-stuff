{
  "nbformat": 4,
  "nbformat_minor": 0,
  "metadata": {
    "colab": {
      "provenance": [],
      "authorship_tag": "ABX9TyNtXEop/wn9nznqmoZ4GbcQ",
      "include_colab_link": true
    },
    "kernelspec": {
      "name": "python3",
      "display_name": "Python 3"
    },
    "language_info": {
      "name": "python"
    }
  },
  "cells": [
    {
      "cell_type": "markdown",
      "metadata": {
        "id": "view-in-github",
        "colab_type": "text"
      },
      "source": [
        "<a href=\"https://colab.research.google.com/github/NckolasGomes6696/IPet/blob/main/Trabalho_sobre_Interpola%C3%A7%C3%A3o_Polinomial%2C_Ajustes_de_Curvas_e_Integra%C3%A7%C3%A3o_Num%C3%A9rica_126696_%26_142369_.ipynb\" target=\"_parent\"><img src=\"https://colab.research.google.com/assets/colab-badge.svg\" alt=\"Open In Colab\"/></a>"
      ]
    },
    {
      "cell_type": "code",
      "execution_count": null,
      "metadata": {
        "id": "rA9b5wZU5ROf"
      },
      "outputs": [],
      "source": [
        "import numpy as np\n",
        "import matplotlib.pyplot as plt"
      ]
    },
    {
      "cell_type": "markdown",
      "source": [
        "exercicio 1"
      ],
      "metadata": {
        "id": "He8dOpNvp112"
      }
    },
    {
      "cell_type": "code",
      "source": [
        "# Dados experimentais\n",
        "tempo_experimental = np.array([0, 10, 20, 30, 40, 50])\n",
        "temperatura_experimental = np.array([20.0, 23.5, 30.0, 33.2, 40.1, 45.2])"
      ],
      "metadata": {
        "id": "Gxe9s_3LJ8OP"
      },
      "execution_count": null,
      "outputs": []
    },
    {
      "cell_type": "code",
      "source": [
        "# Tempo para previsão\n",
        "tempo_previsao = 25"
      ],
      "metadata": {
        "id": "ahCMRx4kJ_7n"
      },
      "execution_count": null,
      "outputs": []
    },
    {
      "cell_type": "markdown",
      "source": [
        "interpolação de lagrange"
      ],
      "metadata": {
        "id": "INnR5DyupN8T"
      }
    },
    {
      "cell_type": "code",
      "source": [
        "# Função para interpolação de Lagrange\n",
        "def lagrange_interpolacao(x, y, ponto):\n",
        "    resultado = 0\n",
        "    for i in range(len(x)):\n",
        "        termo = y[i]\n",
        "        for j in range(len(x)):\n",
        "            if j != i:\n",
        "                termo *= (ponto - x[j]) / (x[i] - x[j])\n",
        "        resultado += termo\n",
        "    return resultado"
      ],
      "metadata": {
        "id": "FG37ORRCKBuv"
      },
      "execution_count": null,
      "outputs": []
    },
    {
      "cell_type": "code",
      "source": [
        "# Realiza a interpolação de Lagrange para o tempo de previsão\n",
        "temperatura_prevista = lagrange_interpolacao(tempo_experimental, temperatura_experimental, tempo_previsao)\n"
      ],
      "metadata": {
        "id": "lRCS7mUFKDdI"
      },
      "execution_count": null,
      "outputs": []
    },
    {
      "cell_type": "code",
      "source": [
        "# Imprime o resultado\n",
        "print(f\"A temperatura prevista para t = {tempo_previsao}s é {temperatura_prevista:.2f} ºC.\")"
      ],
      "metadata": {
        "id": "7qyAFrJVKFYX",
        "outputId": "bbba2eee-3d01-4d7a-a0d4-25a2ca4493f1",
        "colab": {
          "base_uri": "https://localhost:8080/"
        }
      },
      "execution_count": null,
      "outputs": [
        {
          "output_type": "stream",
          "name": "stdout",
          "text": [
            "A temperatura prevista para t = 25s é 31.58 ºC.\n"
          ]
        }
      ]
    },
    {
      "cell_type": "markdown",
      "source": [
        "interpolação de newton"
      ],
      "metadata": {
        "id": "dkGyLQJ4RuuF"
      }
    },
    {
      "cell_type": "code",
      "source": [
        "# Função para interpolação de Newton\n",
        "def coeficientes_newton(x, y):\n",
        "    n = len(x)\n",
        "    F = np.zeros((n, n))\n",
        "    F[:, 0] = y\n",
        "\n",
        "    for j in range(1, n):\n",
        "        for i in range(n - j):\n",
        "            F[i, j] = (F[i + 1, j - 1] - F[i, j - 1]) / (x[i + j] - x[i])\n",
        "\n",
        "    return F[0, :]\n",
        "\n",
        "def newton_interpolacao(coeficientes, x, ponto):\n",
        "    n = len(coeficientes)\n",
        "    resultado = coeficientes[0]\n",
        "\n",
        "    for i in range(1, n):\n",
        "        termo = coeficientes[i]\n",
        "        for j in range(i):\n",
        "            termo *= (ponto - x[j])\n",
        "        resultado += termo\n",
        "\n",
        "    return resultado\n"
      ],
      "metadata": {
        "id": "vN-wiyLzRw1N"
      },
      "execution_count": null,
      "outputs": []
    },
    {
      "cell_type": "code",
      "source": [
        "# Experimente diferentes ordens de polinômios\n",
        "ordens = [1, 2, 3, 4, 5]\n"
      ],
      "metadata": {
        "id": "niOYNhtKR1qt"
      },
      "execution_count": null,
      "outputs": []
    },
    {
      "cell_type": "code",
      "source": [
        "# Inicialização do gráfico\n",
        "plt.figure(figsize=(8, 6))\n",
        "plt.scatter(tempo_experimental, temperatura_experimental, color='red', label='Dados Conhecidos')\n",
        "\n",
        "for ordem in ordens:\n",
        "    coef = coeficientes_newton(tempo_experimental[:ordem + 1], temperatura_experimental[:ordem + 1])\n",
        "\n",
        "    # Estimar a temperatura no tempo de previsão\n",
        "    temp_estimada = newton_interpolacao(coef, tempo_experimental[:ordem + 1], tempo_previsao)\n",
        "\n",
        "    # Adicionar o ponto estimado ao gráfico\n",
        "plt.scatter(tempo_previsao, temp_estimada, label=f'Ordem {ordem}')\n",
        "print(temp_estimada)\n"
      ],
      "metadata": {
        "colab": {
          "base_uri": "https://localhost:8080/",
          "height": 539
        },
        "id": "__YdNxqQR3fd",
        "outputId": "9265243b-5213-4a7c-81ab-d1ba78acc998"
      },
      "execution_count": null,
      "outputs": [
        {
          "output_type": "stream",
          "name": "stdout",
          "text": [
            "31.584375\n"
          ]
        },
        {
          "output_type": "display_data",
          "data": {
            "text/plain": [
              "<Figure size 800x600 with 1 Axes>"
            ],
            "image/png": "[encoded data removed]"
          },
          "metadata": {}
        }
      ]
    },
    {
      "cell_type": "markdown",
      "source": [
        "minimos quadrados\n"
      ],
      "metadata": {
        "id": "fzr6aHZqpLjk"
      }
    },
    {
      "cell_type": "code",
      "source": [
        "# Função para ajuste polinomial\n",
        "def ajuste_minimos_quadrados(x, y, grau):\n",
        "    coeficientes = np.polyfit(x, y, grau)\n",
        "    return np.poly1d(coeficientes)"
      ],
      "metadata": {
        "id": "aqdY33l6pK4s"
      },
      "execution_count": null,
      "outputs": []
    },
    {
      "cell_type": "code",
      "source": [
        "# Graus dos polinômios a serem testados\n",
        "graus = [1, 2, 3, 4]"
      ],
      "metadata": {
        "id": "Ezeb5A5RpSMq"
      },
      "execution_count": null,
      "outputs": []
    },
    {
      "cell_type": "code",
      "source": [
        "# Inicialização do gráfico\n",
        "plt.figure(figsize=(8, 6))\n",
        "plt.scatter(tempo_experimental, temperatura_experimental, color='red', label='Dados Conhecidos')\n",
        "\n",
        "for grau in graus:\n",
        "    # Ajuste polinomial\n",
        "    ajuste_polinomial = ajuste_minimos_quadrados(tempo_experimental, temperatura_experimental, grau)\n",
        "\n",
        "    # Plotar curva ajustada\n",
        "    tempo_ajuste = np.linspace(min(tempo_experimental), max(tempo_experimental), 100)\n",
        "    temperatura_ajuste = ajuste_polinomial(tempo_ajuste)\n",
        "    plt.plot(tempo_ajuste, temperatura_ajuste, label=f'Grau {grau}')\n",
        "\n",
        "    # Estimar a temperatura no tempo de previsão\n",
        "    temp_estimada = ajuste_polinomial(tempo_previsao)\n",
        "    print(f\"A temperatura prevista para t = {tempo_previsao}s (Grau {grau}) é {temp_estimada:.2f} ºC.\")\n"
      ],
      "metadata": {
        "colab": {
          "base_uri": "https://localhost:8080/",
          "height": 591
        },
        "id": "jBrcHhNzpUF7",
        "outputId": "c55a95e3-e614-438e-b1d8-2c813eeb56f7"
      },
      "execution_count": null,
      "outputs": [
        {
          "output_type": "stream",
          "name": "stdout",
          "text": [
            "A temperatura prevista para t = 25s (Grau 1) é 32.00 ºC.\n",
            "A temperatura prevista para t = 25s (Grau 2) é 31.50 ºC.\n",
            "A temperatura prevista para t = 25s (Grau 3) é 31.50 ºC.\n",
            "A temperatura prevista para t = 25s (Grau 4) é 31.58 ºC.\n"
          ]
        },
        {
          "output_type": "display_data",
          "data": {
            "text/plain": [
              "<Figure size 800x600 with 1 Axes>"
            ],
            "image/png": "[encoded data removed]"
          },
          "metadata": {}
        }
      ]
    },
    {
      "cell_type": "markdown",
      "source": [
        "comparação/avaliação"
      ],
      "metadata": {
        "id": "MXanmnfusnxz"
      }
    },
    {
      "cell_type": "code",
      "source": [
        "# Avaliação de métodos\n",
        "ordens_interp = [1, 2, 3, 4]\n",
        "ordens_ajuste = [1, 2, 3, 4]"
      ],
      "metadata": {
        "id": "h-8wd6oGsq8C"
      },
      "execution_count": null,
      "outputs": []
    },
    {
      "cell_type": "code",
      "source": [
        "# Função para interpolação de Newton\n",
        "def coeficientes_newton(x, y):\n",
        "    n = len(x)\n",
        "    F = np.zeros((n, n))\n",
        "    F[:, 0] = y\n",
        "\n",
        "    for j in range(1, n):\n",
        "        for i in range(n - j):\n",
        "            F[i, j] = (F[i + 1, j - 1] - F[i, j - 1]) / (x[i + j] - x[i])\n",
        "\n",
        "    return F[0, :]\n",
        "\n",
        "def newton_interpolacao(coeficientes, x, ponto):\n",
        "    n = len(coeficientes)\n",
        "    resultado = coeficientes[0]\n",
        "\n",
        "    for i in range(1, n):\n",
        "        termo = coeficientes[i]\n",
        "        for j in range(i):\n",
        "            termo *= (ponto - x[j])\n",
        "        resultado += termo\n",
        "\n",
        "    return resultado\n"
      ],
      "metadata": {
        "id": "Hj2OUN8bt4J8"
      },
      "execution_count": null,
      "outputs": []
    },
    {
      "cell_type": "code",
      "source": [
        "# Função para ajuste polinomial\n",
        "def ajuste_minimos_quadrados(x, y, grau):\n",
        "    coeficientes = np.polyfit(x, y, grau)\n",
        "    return np.poly1d(coeficientes)\n"
      ],
      "metadata": {
        "id": "W8-pyH0huBWb"
      },
      "execution_count": null,
      "outputs": []
    },
    {
      "cell_type": "code",
      "source": [
        "for ordem_interp in ordens_interp:\n",
        "    # Interpolação polinomial\n",
        "    coef_interp = coeficientes_newton(tempo_experimental[:ordem_interp + 1], temperatura_experimental[:ordem_interp + 1])\n",
        "    temp_interp = newton_interpolacao(coef_interp, tempo_experimental[:ordem_interp + 1], tempo_previsao)\n",
        "\n",
        "    # Mínimos quadrados\n",
        "    for ordem_ajuste in ordens_ajuste:\n",
        "        ajuste_polinomial = ajuste_minimos_quadrados(tempo_experimental, temperatura_experimental, ordem_ajuste)\n",
        "        temp_ajuste = ajuste_polinomial(tempo_previsao)\n",
        "\n",
        "        # Cálculo dos erros absolutos\n",
        "        erro_interp = np.abs(temp_interp - temperatura_experimental[3])\n",
        "        erro_ajuste = np.abs(temp_ajuste - temperatura_experimental[3])\n",
        "\n",
        "        # Imprime resultados\n",
        "        print(f\"Interpolação (Ordem {ordem_interp}) - Erro Absoluto: {erro_interp:.2f} ºC\")\n",
        "        print(f\"Ajuste Mínimos Quadrados (Grau {ordem_ajuste}) - Erro Absoluto: {erro_ajuste:.2f} ºC\")\n",
        "        print(\"=\"*50)\n"
      ],
      "metadata": {
        "colab": {
          "base_uri": "https://localhost:8080/"
        },
        "id": "54_MNw-DssMa",
        "outputId": "c9a2db5a-da4d-4f00-9937-cb9e5efbc397"
      },
      "execution_count": null,
      "outputs": [
        {
          "output_type": "stream",
          "name": "stdout",
          "text": [
            "Interpolação (Ordem 1) - Erro Absoluto: 4.45 ºC\n",
            "Ajuste Mínimos Quadrados (Grau 1) - Erro Absoluto: 1.20 ºC\n",
            "==================================================\n",
            "Interpolação (Ordem 1) - Erro Absoluto: 4.45 ºC\n",
            "Ajuste Mínimos Quadrados (Grau 2) - Erro Absoluto: 1.70 ºC\n",
            "==================================================\n",
            "Interpolação (Ordem 1) - Erro Absoluto: 4.45 ºC\n",
            "Ajuste Mínimos Quadrados (Grau 3) - Erro Absoluto: 1.70 ºC\n",
            "==================================================\n",
            "Interpolação (Ordem 1) - Erro Absoluto: 4.45 ºC\n",
            "Ajuste Mínimos Quadrados (Grau 4) - Erro Absoluto: 1.62 ºC\n",
            "==================================================\n",
            "Interpolação (Ordem 2) - Erro Absoluto: 1.17 ºC\n",
            "Ajuste Mínimos Quadrados (Grau 1) - Erro Absoluto: 1.20 ºC\n",
            "==================================================\n",
            "Interpolação (Ordem 2) - Erro Absoluto: 1.17 ºC\n",
            "Ajuste Mínimos Quadrados (Grau 2) - Erro Absoluto: 1.70 ºC\n",
            "==================================================\n",
            "Interpolação (Ordem 2) - Erro Absoluto: 1.17 ºC\n",
            "Ajuste Mínimos Quadrados (Grau 3) - Erro Absoluto: 1.70 ºC\n",
            "==================================================\n",
            "Interpolação (Ordem 2) - Erro Absoluto: 1.17 ºC\n",
            "Ajuste Mínimos Quadrados (Grau 4) - Erro Absoluto: 1.62 ºC\n",
            "==================================================\n",
            "Interpolação (Ordem 3) - Erro Absoluto: 0.79 ºC\n",
            "Ajuste Mínimos Quadrados (Grau 1) - Erro Absoluto: 1.20 ºC\n",
            "==================================================\n",
            "Interpolação (Ordem 3) - Erro Absoluto: 0.79 ºC\n",
            "Ajuste Mínimos Quadrados (Grau 2) - Erro Absoluto: 1.70 ºC\n",
            "==================================================\n",
            "Interpolação (Ordem 3) - Erro Absoluto: 0.79 ºC\n",
            "Ajuste Mínimos Quadrados (Grau 3) - Erro Absoluto: 1.70 ºC\n",
            "==================================================\n",
            "Interpolação (Ordem 3) - Erro Absoluto: 0.79 ºC\n",
            "Ajuste Mínimos Quadrados (Grau 4) - Erro Absoluto: 1.62 ºC\n",
            "==================================================\n",
            "Interpolação (Ordem 4) - Erro Absoluto: 1.31 ºC\n",
            "Ajuste Mínimos Quadrados (Grau 1) - Erro Absoluto: 1.20 ºC\n",
            "==================================================\n",
            "Interpolação (Ordem 4) - Erro Absoluto: 1.31 ºC\n",
            "Ajuste Mínimos Quadrados (Grau 2) - Erro Absoluto: 1.70 ºC\n",
            "==================================================\n",
            "Interpolação (Ordem 4) - Erro Absoluto: 1.31 ºC\n",
            "Ajuste Mínimos Quadrados (Grau 3) - Erro Absoluto: 1.70 ºC\n",
            "==================================================\n",
            "Interpolação (Ordem 4) - Erro Absoluto: 1.31 ºC\n",
            "Ajuste Mínimos Quadrados (Grau 4) - Erro Absoluto: 1.62 ºC\n",
            "==================================================\n"
          ]
        }
      ]
    },
    {
      "cell_type": "code",
      "source": [
        "# Gráfico de comparação\n",
        "plt.figure(figsize=(10, 6))\n",
        "plt.scatter(tempo_experimental, temperatura_experimental, color='red', label='Dados Conhecidos')\n",
        "plt.plot(tempo_experimental, ajuste_minimos_quadrados(tempo_experimental, temperatura_experimental, 2)(tempo_experimental), label='Ajuste Mínimos Quadrados (Grau 2)', linestyle='--')\n",
        "plt.scatter(tempo_previsao, newton_interpolacao(coef_interp, tempo_experimental[:ordem_interp + 1], tempo_previsao), label=f'Interpolação (Ordem {ordem_interp})', marker='x')\n",
        "print(\"interpolação newton = \", temp_interp)\n",
        "print(\"minimos quadrados = \", temp_ajuste)"
      ],
      "metadata": {
        "colab": {
          "base_uri": "https://localhost:8080/",
          "height": 557
        },
        "id": "z6fspc0IsvqT",
        "outputId": "98d6833f-4e10-465a-ad0d-c6fa6c635bfa"
      },
      "execution_count": null,
      "outputs": [
        {
          "output_type": "stream",
          "name": "stdout",
          "text": [
            "interpolação newton =  31.88671875\n",
            "minimos quadrados =  31.584375000000012\n"
          ]
        },
        {
          "output_type": "display_data",
          "data": {
            "text/plain": [
              "<Figure size 1000x600 with 1 Axes>"
            ],
            "image/png": "[encoded data removed]"
          },
          "metadata": {}
        }
      ]
    },
    {
      "cell_type": "markdown",
      "source": [
        "Interpolação:\n",
        "Vantagens:\n",
        "\n",
        "Pode ser mais simples e direta de implementar.\n",
        "Geralmente funciona bem para pontos próximos aos dados conhecidos.\n",
        "Desvantagens:\n",
        "\n",
        "Pode sofrer de fenômeno de oscilação (Runge's Phenomenon) em ordens elevadas.\n",
        "Extrapolar além dos dados conhecidos pode levar a resultados imprecisos.\n",
        "Mínimos Quadrados:\n",
        "Vantagens:\n",
        "\n",
        "Flexibilidade para ajustar polinômios de diferentes graus.\n",
        "Menos sensível a flutuações nos dados experimentais.\n",
        "Desvantagens:\n",
        "\n",
        "Pode ser mais complexo de implementar.\n",
        "Sensível à escolha do grau do polinômio.\n",
        "Ambos os métodos têm seu lugar dependendo do contexto específico e da natureza dos dados experimentais. Experimente diferentes abordagens para avaliar qual se adequa melhor ao seu problema."
      ],
      "metadata": {
        "id": "U4ZvPXHBpqH3"
      }
    },
    {
      "cell_type": "markdown",
      "source": [
        "exercicio 2:"
      ],
      "metadata": {
        "id": "NcQBfGNapvmV"
      }
    },
    {
      "cell_type": "markdown",
      "source": [
        "Múltipla Aplicação do Método do Trapézio"
      ],
      "metadata": {
        "id": "pCMkl39fswX7"
      }
    },
    {
      "cell_type": "code",
      "source": [
        "# Função de densidade de potência elétrica\n",
        "def P(t):\n",
        "    return 0.2 * t**3 - 1.5 * t**2 + 4 * np.sin(t) + 2 * np.cos(t) + 10\n"
      ],
      "metadata": {
        "id": "OEmnZhIRputN"
      },
      "execution_count": null,
      "outputs": []
    },
    {
      "cell_type": "code",
      "source": [
        "# Múltiplas aplicações do método do trapézio\n",
        "def trapezoidal_rule_multiple_segments(func, a, b, num_segments):\n",
        "    h = (b - a) / num_segments\n",
        "    integral_sum = 0.5 * (func(a) + func(b))\n",
        "\n",
        "    for i in range(1, num_segments):\n",
        "        x_i = a + i * h\n",
        "        integral_sum += func(x_i)\n",
        "\n",
        "    integral_sum *= h\n",
        "    return integral_sum\n"
      ],
      "metadata": {
        "id": "39MFLLW3sgFD"
      },
      "execution_count": null,
      "outputs": []
    },
    {
      "cell_type": "code",
      "source": [
        "# Intervalo de integração\n",
        "a = 0\n",
        "b = 6\n"
      ],
      "metadata": {
        "id": "e7KL2y0bsiNs"
      },
      "execution_count": null,
      "outputs": []
    },
    {
      "cell_type": "code",
      "source": [
        "# Número de segmentos\n",
        "num_segments = 6\n"
      ],
      "metadata": {
        "id": "N3p2bcCQsjtz"
      },
      "execution_count": null,
      "outputs": []
    },
    {
      "cell_type": "code",
      "source": [
        "# Aplicação do método do trapézio com múltiplas aplicações\n",
        "estimated_energy_trap = trapezoidal_rule_multiple_segments(P, a, b, num_segments)\n"
      ],
      "metadata": {
        "id": "kbOySci3slR7"
      },
      "execution_count": null,
      "outputs": []
    },
    {
      "cell_type": "code",
      "source": [
        "# Exibição do resultado\n",
        "print(f\"A quantidade total de energia consumida no intervalo de 0 a 6 segundos é aproximadamente: {estimated_energy_trap:.6f}\")"
      ],
      "metadata": {
        "colab": {
          "base_uri": "https://localhost:8080/"
        },
        "id": "CSKteXzSsnAz",
        "outputId": "aace20f1-1186-4d1b-8378-026d079752d8"
      },
      "execution_count": null,
      "outputs": [
        {
          "output_type": "stream",
          "name": "stdout",
          "text": [
            "A quantidade total de energia consumida no intervalo de 0 a 6 segundos é aproximadamente: 16.734349\n"
          ]
        }
      ]
    },
    {
      "cell_type": "markdown",
      "source": [
        "Múltipla Aplicação da Regra de Simpson 1/3"
      ],
      "metadata": {
        "id": "KeVpX4WSs5wD"
      }
    },
    {
      "cell_type": "code",
      "source": [
        "def P(t):\n",
        "    return 0.2 * t**3 - 1.5 * t**2 + 4 * np.sin(t) + 2 * np.cos(t) + 10\n"
      ],
      "metadata": {
        "id": "lOTwiCgFttRb"
      },
      "execution_count": null,
      "outputs": []
    },
    {
      "cell_type": "code",
      "source": [
        "# Múltiplas aplicações da regra de Simpson 1/3\n",
        "def simpsons_rule_multiple_segments(func, a, b, num_segments):\n",
        "    h = (b - a) / num_segments\n",
        "    integral_sum = func(a) + func(b)\n",
        "\n",
        "    for i in range(1, num_segments):\n",
        "        x_i = a + i * h\n",
        "        if i % 2 == 0:\n",
        "            integral_sum += 2 * func(x_i)\n",
        "        else:\n",
        "            integral_sum += 4 * func(x_i)\n",
        "\n",
        "    integral_sum *= h / 3\n",
        "    return integral_sum"
      ],
      "metadata": {
        "id": "DXEZQCl8twUb"
      },
      "execution_count": null,
      "outputs": []
    },
    {
      "cell_type": "code",
      "source": [
        "# Intervalo de integração\n",
        "a = 0\n",
        "b = 6"
      ],
      "metadata": {
        "id": "HR36jaewtyKL"
      },
      "execution_count": null,
      "outputs": []
    },
    {
      "cell_type": "code",
      "source": [
        "# Número de segmentos\n",
        "num_segments = 6\n"
      ],
      "metadata": {
        "id": "Iko18GLvt0BT"
      },
      "execution_count": null,
      "outputs": []
    },
    {
      "cell_type": "code",
      "source": [
        "# Aplicação da regra de Simpson 1/3 com múltiplas aplicações\n",
        "estimated_energy_simpson_1_3 = simpsons_rule_multiple_segments(P, a, b, num_segments)\n"
      ],
      "metadata": {
        "id": "n5CgzcMHt03b"
      },
      "execution_count": null,
      "outputs": []
    },
    {
      "cell_type": "code",
      "source": [
        "# Exibição do resultado\n",
        "print(f\"A quantidade total de energia consumida no intervalo de 0 a 6 segundos é aproximadamente: {estimated_energy_simpson_1_3:.6f}\")"
      ],
      "metadata": {
        "colab": {
          "base_uri": "https://localhost:8080/"
        },
        "id": "7WYgc_k6t25U",
        "outputId": "854ac28c-4af5-439e-8567-31bccef62bef"
      },
      "execution_count": null,
      "outputs": [
        {
          "output_type": "stream",
          "name": "stdout",
          "text": [
            "A quantidade total de energia consumida no intervalo de 0 a 6 segundos é aproximadamente: 16.397973\n"
          ]
        }
      ]
    },
    {
      "cell_type": "markdown",
      "source": [
        "Aplicação da Regra de Simpson 3/8"
      ],
      "metadata": {
        "id": "26ZQOy8it8Xb"
      }
    },
    {
      "cell_type": "code",
      "source": [
        "# Função de densidade de potência elétrica\n",
        "def P(t):\n",
        "    return 0.2 * t**3 - 1.5 * t**2 + 4 * np.sin(t) + 2 * np.cos(t) + 10\n"
      ],
      "metadata": {
        "id": "eFOd7w1PuCVb"
      },
      "execution_count": null,
      "outputs": []
    },
    {
      "cell_type": "code",
      "source": [
        "# Regra de Simpson 3/8 com uma única aplicação\n",
        "def simpsons_rule_3_8_single_application(func, a, b):\n",
        "    h = (b - a) / 3\n",
        "    integral_sum = func(a) + 3 * func(a + h) + 3 * func(a + 2 * h) + func(b)\n",
        "    integral_sum *= 3 * h / 8\n",
        "    return integral_sum\n"
      ],
      "metadata": {
        "id": "QN9LmGU3uhQq"
      },
      "execution_count": null,
      "outputs": []
    },
    {
      "cell_type": "code",
      "source": [
        "# Intervalo de integração\n",
        "a = 0\n",
        "b = 6\n"
      ],
      "metadata": {
        "id": "DJvW6sqHui3C"
      },
      "execution_count": null,
      "outputs": []
    },
    {
      "cell_type": "code",
      "source": [
        "# Aplicação da regra de Simpson 3/8 com uma única aplicação\n",
        "estimated_energy_simpson_3_8 = simpsons_rule_3_8_single_application(P, a, b)\n"
      ],
      "metadata": {
        "id": "zeBXS_AwulvS"
      },
      "execution_count": null,
      "outputs": []
    },
    {
      "cell_type": "code",
      "source": [
        "# Exibição do resultado\n",
        "print(f\"A quantidade total de energia consumida no intervalo de 0 a 6 segundos é aproximadamente: {estimated_energy_simpson_3_8:.6f}\")"
      ],
      "metadata": {
        "colab": {
          "base_uri": "https://localhost:8080/"
        },
        "id": "no2T5dX_unsD",
        "outputId": "18c5a748-a4d2-4212-9c94-a3eb2a47559a"
      },
      "execution_count": null,
      "outputs": [
        {
          "output_type": "stream",
          "name": "stdout",
          "text": [
            "A quantidade total de energia consumida no intervalo de 0 a 6 segundos é aproximadamente: 15.460406\n"
          ]
        }
      ]
    },
    {
      "cell_type": "markdown",
      "source": [
        "Comparação e Avaliação/Análise de Erros"
      ],
      "metadata": {
        "id": "MAdP2oeoutDC"
      }
    },
    {
      "cell_type": "code",
      "source": [
        "# Valor real obtido analiticamente\n",
        "real_value = 16.400488"
      ],
      "metadata": {
        "id": "ufstn_Rauyk8"
      },
      "execution_count": null,
      "outputs": []
    },
    {
      "cell_type": "code",
      "source": [
        "# Resultados obtidos pelos métodos\n",
        "print(\"m.trapezoidal = \",estimated_energy_trap)\n",
        "print(\"m.simpson 1/3 = \",estimated_energy_simpson_1_3)\n",
        "print(\"m.simpson 3/8 = \",estimated_energy_simpson_3_8)\n"
      ],
      "metadata": {
        "colab": {
          "base_uri": "https://localhost:8080/"
        },
        "id": "CjwTA83Evfpq",
        "outputId": "1752a843-2ec9-4ebe-802e-1f495b064196"
      },
      "execution_count": null,
      "outputs": [
        {
          "output_type": "stream",
          "name": "stdout",
          "text": [
            "m.trapezoidal =  16.734348963782367\n",
            "m.simpson 1/3 =  16.39797321737514\n",
            "m.simpson 3/8 =  15.460406260690158\n"
          ]
        }
      ]
    },
    {
      "cell_type": "code",
      "source": [
        "# Cálculo dos erros absolutos\n",
        "error_trap_absolute = abs(real_value - estimated_energy_trap)\n",
        "error_simpson_1_3_absolute = abs(real_value - estimated_energy_simpson_1_3)\n",
        "error_simpson_3_8_absolute = abs(real_value - estimated_energy_simpson_3_8)\n"
      ],
      "metadata": {
        "id": "Ize4LIjSvhkb"
      },
      "execution_count": null,
      "outputs": []
    },
    {
      "cell_type": "code",
      "source": [
        "# Cálculo dos erros relativos percentuais\n",
        "error_trap_relative_percent = (error_trap_absolute / real_value) * 100\n",
        "error_simpson_1_3_relative_percent = (error_simpson_1_3_absolute / real_value) * 100\n",
        "error_simpson_3_8_relative_percent = (error_simpson_3_8_absolute / real_value) * 100\n"
      ],
      "metadata": {
        "id": "U2ekNY3AvjW6"
      },
      "execution_count": null,
      "outputs": []
    },
    {
      "cell_type": "code",
      "source": [
        "# Exibição dos resultados em uma tabela\n",
        "print(f\"{'Método':<25}{'Energia Estimada':<20}{'Erro Absoluto':<20}{'Erro Relativo (%)':<25}\")\n",
        "print(\"-\" * 90)\n",
        "print(f\"{'Trapézio':<25}{estimated_energy_trap:<20.6f}{error_trap_absolute:<20.6f}{error_trap_relative_percent:<25.6f}\")\n",
        "print(f\"Simpson 1/3 (múltiplas):{'':<6}{estimated_energy_simpson_1_3:<20.6f}{error_simpson_1_3_absolute:<20.6f}{error_simpson_1_3_relative_percent:<25.6f}\")\n",
        "print(f\"Simpson 3/8 (única):{'':<10}{estimated_energy_simpson_3_8:<20.6f}{error_simpson_3_8_absolute:<20.6f}{error_simpson_3_8_relative_percent:<25.6f}\")"
      ],
      "metadata": {
        "colab": {
          "base_uri": "https://localhost:8080/"
        },
        "id": "YSabUIekvlDj",
        "outputId": "0f0eac46-5c17-43a4-b584-f84bf77a9efa"
      },
      "execution_count": null,
      "outputs": [
        {
          "output_type": "stream",
          "name": "stdout",
          "text": [
            "Método                   Energia Estimada    Erro Absoluto       Erro Relativo (%)        \n",
            "------------------------------------------------------------------------------------------\n",
            "Trapézio                 16.734349           0.333861            2.035677                 \n",
            "Simpson 1/3 (múltiplas):      16.397973           0.002515            0.015334                 \n",
            "Simpson 3/8 (única):          15.460406           0.940082            5.732035                 \n"
          ]
        }
      ]
    }
  ]
}