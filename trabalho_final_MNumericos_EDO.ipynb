{
  "nbformat": 4,
  "nbformat_minor": 0,
  "metadata": {
    "colab": {
      "provenance": [],
      "authorship_tag": "ABX9TyOUo7FjCDnT7kd8wo1y03lR",
      "include_colab_link": true
    },
    "kernelspec": {
      "name": "python3",
      "display_name": "Python 3"
    },
    "language_info": {
      "name": "python"
    }
  },
  "cells": [
    {
      "cell_type": "markdown",
      "metadata": {
        "id": "view-in-github",
        "colab_type": "text"
      },
      "source": [
        "<a href=\"https://colab.research.google.com/github/NckolasGomes6696/IPet/blob/main/trabalho_final_MNumericos_EDO.ipynb\" target=\"_parent\"><img src=\"https://colab.research.google.com/assets/colab-badge.svg\" alt=\"Open In Colab\"/></a>"
      ]
    },
    {
      "cell_type": "markdown",
      "source": [],
      "metadata": {
        "id": "qyhmwIgWpBTr"
      }
    },
    {
      "cell_type": "code",
      "source": [
        "import math\n",
        "import matplotlib.pyplot as plt"
      ],
      "metadata": {
        "id": "uSYtBFqSkcDS"
      },
      "execution_count": null,
      "outputs": []
    },
    {
      "cell_type": "code",
      "source": [
        "# Constantes\n",
        "T_0 = 0 ## T_0 = passo inicial, Y(0)\n",
        "Y_0 = 1 ## Y_0 = valor do passo inicial, 1\n",
        "## correspende a Y(0) = 1, que seria a condição inicial\n",
        "\n",
        "T_FINAL = 5\n",
        "DT = 0.5\n",
        "DT_EXACT = 0.01"
      ],
      "metadata": {
        "id": "IpIStseCkjSS"
      },
      "execution_count": null,
      "outputs": []
    },
    {
      "cell_type": "code",
      "source": [
        "# Funções\n",
        "def f(t, y):\n",
        "    return math.sin(t)**2 * y ##(dy/dt) = sin^2(t)*y\n",
        "\n",
        "def euler_step(t_i, y_i, dt, f):\n",
        "    return y_i + dt*f(t_i, y_i)\n",
        "\n",
        "def rk4_step(t_i, y_i, dt, f):\n",
        "    k1 = f(t_i, y_i)\n",
        "    k2 = f(t_i + dt/2, y_i + k1*dt/2)\n",
        "    k3 = f(t_i + dt/2, y_i + k2*dt/2)\n",
        "    k4 = f(t_i + dt, y_i + k3*dt)\n",
        "    return y_i + dt/6*(k1 + 2*k2 + 2*k3 + k4)\n",
        "\n",
        "def y_exact(t_0, y_0, t): ## ==> y(t) = y(ti)exp(0.5*[(t-ti)-(sintcost - sinticosti)])\n",
        "    exp_arg = 1/2 * ( (t-t_0) - (math.sin(t)*math.cos(t) - math.sin(t_0)*math.cos(t_0)) )\n",
        "    return y_0*math.exp(exp_arg)\n"
      ],
      "metadata": {
        "id": "AxQP6aIckjwa"
      },
      "execution_count": null,
      "outputs": []
    },
    {
      "cell_type": "code",
      "source": [
        "# Computando resultados exatos\n",
        "t = T_0\n",
        "\n",
        "ys_exact = []\n",
        "ts_exact = []\n",
        "\n",
        "while t < T_FINAL:\n",
        "    ts_exact.append(t)\n",
        "    ys_exact.append(y_exact(T_0, Y_0, t))\n",
        "    t += DT_EXACT"
      ],
      "metadata": {
        "id": "2VVCDEOGkmpx"
      },
      "execution_count": null,
      "outputs": []
    },
    {
      "cell_type": "code",
      "source": [
        "# Computando resultados aproximados\n",
        "ts = [T_0]\n",
        "ys = [Y_0]\n",
        "ys_euler = [Y_0]\n",
        "\n",
        "y = Y_0\n",
        "y_euler = Y_0\n",
        "t = T_0\n",
        "\n",
        "while t < T_FINAL:\n",
        "    # Resolução por Runge-Kutta\n",
        "    y = rk4_step(t, y, DT, f)\n",
        "\n",
        "    # Resolução por Euler\n",
        "    y_euler = euler_step(t, y_euler, DT, f)\n",
        "\n",
        "    # Aumentando t\n",
        "    t += DT\n",
        "\n",
        "    # Adicionando resultados\n",
        "    ts.append(t)\n",
        "    ys.append(y)\n",
        "    ys_euler.append(y_euler)"
      ],
      "metadata": {
        "id": "q5D44xAfko8R"
      },
      "execution_count": null,
      "outputs": []
    },
    {
      "cell_type": "code",
      "source": [
        "# Plotting\n",
        "plt.plot(ts, ys, color='red', marker='o', linewidth=0.0, label='RK4')\n",
        "plt.plot(ts, ys_euler, color='green', marker='o', linewidth=0.0, label='Euler')\n",
        "plt.plot(ts_exact, ys_exact, color='blue', label='Exact')\n",
        "plt.legend()\n",
        "plt.show()"
      ],
      "metadata": {
        "colab": {
          "base_uri": "https://localhost:8080/",
          "height": 430
        },
        "id": "uELjHr1gkrjR",
        "outputId": "176cc766-5b61-4987-fba2-af0c80ac903f"
      },
      "execution_count": null,
      "outputs": [
        {
          "output_type": "display_data",
          "data": {
            "text/plain": [
              "<Figure size 640x480 with 1 Axes>"
            ],
            "image/png": "[encoded data removed]"
          },
          "metadata": {}
        }
      ]
    }
  ]
}