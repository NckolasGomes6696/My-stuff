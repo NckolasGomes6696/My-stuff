{
  "nbformat": 4,
  "nbformat_minor": 0,
  "metadata": {
    "colab": {
      "provenance": [],
      "authorship_tag": "ABX9TyPX6H3tG5jshTHOHU4gYYdT",
      "include_colab_link": true
    },
    "kernelspec": {
      "name": "ir",
      "display_name": "R"
    },
    "language_info": {
      "name": "R"
    }
  },
  "cells": [
    {
      "cell_type": "markdown",
      "metadata": {
        "id": "view-in-github",
        "colab_type": "text"
      },
      "source": [
        "<a href=\"https://colab.research.google.com/github/NckolasGomes6696/My-stuff/blob/main/estat9.ipynb\" target=\"_parent\"><img src=\"https://colab.research.google.com/assets/colab-badge.svg\" alt=\"Open In Colab\"/></a>"
      ]
    },
    {
      "cell_type": "code",
      "execution_count": 11,
      "metadata": {
        "colab": {
          "base_uri": "https://localhost:8080/",
          "height": 1000
        },
        "id": "SAZZAP_J2gRf",
        "outputId": "31e7cd14-4b2b-42f0-c7da-2d411da95b82"
      },
      "outputs": [
        {
          "output_type": "display_data",
          "data": {
            "text/html": [
              "<table class=\"dataframe\">\n",
              "<caption>A data.frame: 40 × 2</caption>\n",
              "<thead>\n",
              "\t<tr><th scope=col>individuo</th><th scope=col>provedor</th></tr>\n",
              "\t<tr><th scope=col>&lt;int&gt;</th><th scope=col>&lt;chr&gt;</th></tr>\n",
              "</thead>\n",
              "<tbody>\n",
              "\t<tr><td> 1</td><td>VIVO    </td></tr>\n",
              "\t<tr><td> 2</td><td>CLARO   </td></tr>\n",
              "\t<tr><td> 3</td><td>CLARO   </td></tr>\n",
              "\t<tr><td> 4</td><td>OI FIBRA</td></tr>\n",
              "\t<tr><td> 5</td><td>VIVO    </td></tr>\n",
              "\t<tr><td> 6</td><td>OI FIBRA</td></tr>\n",
              "\t<tr><td> 7</td><td>OSIRNET </td></tr>\n",
              "\t<tr><td> 8</td><td>OI FIBRA</td></tr>\n",
              "\t<tr><td> 9</td><td>OI FIBRA</td></tr>\n",
              "\t<tr><td>10</td><td>CLARO   </td></tr>\n",
              "\t<tr><td>11</td><td>VIVO    </td></tr>\n",
              "\t<tr><td>12</td><td>CLARO   </td></tr>\n",
              "\t<tr><td>13</td><td>OI FIBRA</td></tr>\n",
              "\t<tr><td>14</td><td>OSIRNET </td></tr>\n",
              "\t<tr><td>15</td><td>CLARO   </td></tr>\n",
              "\t<tr><td>16</td><td>OI FIBRA</td></tr>\n",
              "\t<tr><td>17</td><td>OI FIBRA</td></tr>\n",
              "\t<tr><td>18</td><td>VIVO    </td></tr>\n",
              "\t<tr><td>19</td><td>OSIRNET </td></tr>\n",
              "\t<tr><td>20</td><td>OI FIBRA</td></tr>\n",
              "\t<tr><td>21</td><td>OI FIBRA</td></tr>\n",
              "\t<tr><td>22</td><td>CLARO   </td></tr>\n",
              "\t<tr><td>23</td><td>CLARO   </td></tr>\n",
              "\t<tr><td>24</td><td>OI FIBRA</td></tr>\n",
              "\t<tr><td>25</td><td>CLARO   </td></tr>\n",
              "\t<tr><td>26</td><td>CLARO   </td></tr>\n",
              "\t<tr><td>27</td><td>OI FIBRA</td></tr>\n",
              "\t<tr><td>28</td><td>OSIRNET </td></tr>\n",
              "\t<tr><td>29</td><td>OSIRNET </td></tr>\n",
              "\t<tr><td>30</td><td>VIVO    </td></tr>\n",
              "\t<tr><td>31</td><td>CLARO   </td></tr>\n",
              "\t<tr><td>32</td><td>CLARO   </td></tr>\n",
              "\t<tr><td>33</td><td>OI FIBRA</td></tr>\n",
              "\t<tr><td>34</td><td>VIVO    </td></tr>\n",
              "\t<tr><td>35</td><td>OI FIBRA</td></tr>\n",
              "\t<tr><td>36</td><td>OSIRNET </td></tr>\n",
              "\t<tr><td>37</td><td>OI FIBRA</td></tr>\n",
              "\t<tr><td>38</td><td>OI FIBRA</td></tr>\n",
              "\t<tr><td>39</td><td>OI FIBRA</td></tr>\n",
              "\t<tr><td>40</td><td>VIVO    </td></tr>\n",
              "</tbody>\n",
              "</table>\n"
            ],
            "text/markdown": "\nA data.frame: 40 × 2\n\n| individuo &lt;int&gt; | provedor &lt;chr&gt; |\n|---|---|\n|  1 | VIVO     |\n|  2 | CLARO    |\n|  3 | CLARO    |\n|  4 | OI FIBRA |\n|  5 | VIVO     |\n|  6 | OI FIBRA |\n|  7 | OSIRNET  |\n|  8 | OI FIBRA |\n|  9 | OI FIBRA |\n| 10 | CLARO    |\n| 11 | VIVO     |\n| 12 | CLARO    |\n| 13 | OI FIBRA |\n| 14 | OSIRNET  |\n| 15 | CLARO    |\n| 16 | OI FIBRA |\n| 17 | OI FIBRA |\n| 18 | VIVO     |\n| 19 | OSIRNET  |\n| 20 | OI FIBRA |\n| 21 | OI FIBRA |\n| 22 | CLARO    |\n| 23 | CLARO    |\n| 24 | OI FIBRA |\n| 25 | CLARO    |\n| 26 | CLARO    |\n| 27 | OI FIBRA |\n| 28 | OSIRNET  |\n| 29 | OSIRNET  |\n| 30 | VIVO     |\n| 31 | CLARO    |\n| 32 | CLARO    |\n| 33 | OI FIBRA |\n| 34 | VIVO     |\n| 35 | OI FIBRA |\n| 36 | OSIRNET  |\n| 37 | OI FIBRA |\n| 38 | OI FIBRA |\n| 39 | OI FIBRA |\n| 40 | VIVO     |\n\n",
            "text/latex": "A data.frame: 40 × 2\n\\begin{tabular}{ll}\n individuo & provedor\\\\\n <int> & <chr>\\\\\n\\hline\n\t  1 & VIVO    \\\\\n\t  2 & CLARO   \\\\\n\t  3 & CLARO   \\\\\n\t  4 & OI FIBRA\\\\\n\t  5 & VIVO    \\\\\n\t  6 & OI FIBRA\\\\\n\t  7 & OSIRNET \\\\\n\t  8 & OI FIBRA\\\\\n\t  9 & OI FIBRA\\\\\n\t 10 & CLARO   \\\\\n\t 11 & VIVO    \\\\\n\t 12 & CLARO   \\\\\n\t 13 & OI FIBRA\\\\\n\t 14 & OSIRNET \\\\\n\t 15 & CLARO   \\\\\n\t 16 & OI FIBRA\\\\\n\t 17 & OI FIBRA\\\\\n\t 18 & VIVO    \\\\\n\t 19 & OSIRNET \\\\\n\t 20 & OI FIBRA\\\\\n\t 21 & OI FIBRA\\\\\n\t 22 & CLARO   \\\\\n\t 23 & CLARO   \\\\\n\t 24 & OI FIBRA\\\\\n\t 25 & CLARO   \\\\\n\t 26 & CLARO   \\\\\n\t 27 & OI FIBRA\\\\\n\t 28 & OSIRNET \\\\\n\t 29 & OSIRNET \\\\\n\t 30 & VIVO    \\\\\n\t 31 & CLARO   \\\\\n\t 32 & CLARO   \\\\\n\t 33 & OI FIBRA\\\\\n\t 34 & VIVO    \\\\\n\t 35 & OI FIBRA\\\\\n\t 36 & OSIRNET \\\\\n\t 37 & OI FIBRA\\\\\n\t 38 & OI FIBRA\\\\\n\t 39 & OI FIBRA\\\\\n\t 40 & VIVO    \\\\\n\\end{tabular}\n",
            "text/plain": [
              "   individuo provedor\n",
              "1   1        VIVO    \n",
              "2   2        CLARO   \n",
              "3   3        CLARO   \n",
              "4   4        OI FIBRA\n",
              "5   5        VIVO    \n",
              "6   6        OI FIBRA\n",
              "7   7        OSIRNET \n",
              "8   8        OI FIBRA\n",
              "9   9        OI FIBRA\n",
              "10 10        CLARO   \n",
              "11 11        VIVO    \n",
              "12 12        CLARO   \n",
              "13 13        OI FIBRA\n",
              "14 14        OSIRNET \n",
              "15 15        CLARO   \n",
              "16 16        OI FIBRA\n",
              "17 17        OI FIBRA\n",
              "18 18        VIVO    \n",
              "19 19        OSIRNET \n",
              "20 20        OI FIBRA\n",
              "21 21        OI FIBRA\n",
              "22 22        CLARO   \n",
              "23 23        CLARO   \n",
              "24 24        OI FIBRA\n",
              "25 25        CLARO   \n",
              "26 26        CLARO   \n",
              "27 27        OI FIBRA\n",
              "28 28        OSIRNET \n",
              "29 29        OSIRNET \n",
              "30 30        VIVO    \n",
              "31 31        CLARO   \n",
              "32 32        CLARO   \n",
              "33 33        OI FIBRA\n",
              "34 34        VIVO    \n",
              "35 35        OI FIBRA\n",
              "36 36        OSIRNET \n",
              "37 37        OI FIBRA\n",
              "38 38        OI FIBRA\n",
              "39 39        OI FIBRA\n",
              "40 40        VIVO    "
            ]
          },
          "metadata": {}
        }
      ],
      "source": [
        "# Carregar o arquivo CSV\n",
        "dados <- read.csv('/content/proba9.csv')\n",
        "\n",
        "dados"
      ]
    },
    {
      "cell_type": "code",
      "source": [
        "# Calcular frequências absolutas\n",
        "frequencias_absolutas <- table(dados$provedor)\n",
        "frequencias_absolutas"
      ],
      "metadata": {
        "colab": {
          "base_uri": "https://localhost:8080/",
          "height": 69
        },
        "id": "W17T4OS26gyv",
        "outputId": "9ffa298f-7bab-4866-d310-e8a05b6175be"
      },
      "execution_count": 12,
      "outputs": [
        {
          "output_type": "display_data",
          "data": {
            "text/plain": [
              "\n",
              "   CLARO OI FIBRA  OSIRNET     VIVO \n",
              "      11       16        6        7 "
            ]
          },
          "metadata": {}
        }
      ]
    },
    {
      "cell_type": "code",
      "source": [
        "# Calcular frequências relativas\n",
        "frequencias_relativas <- prop.table(frequencias_absolutas)\n",
        "frequencias_relativas\n"
      ],
      "metadata": {
        "colab": {
          "base_uri": "https://localhost:8080/",
          "height": 69
        },
        "id": "7lzv8ckP6yye",
        "outputId": "f50a8286-3e57-459e-e08d-ed1515f4176b"
      },
      "execution_count": 13,
      "outputs": [
        {
          "output_type": "display_data",
          "data": {
            "text/plain": [
              "\n",
              "   CLARO OI FIBRA  OSIRNET     VIVO \n",
              "   0.275    0.400    0.150    0.175 "
            ]
          },
          "metadata": {}
        }
      ]
    },
    {
      "cell_type": "code",
      "source": [
        "# Calcular frequências percentuais\n",
        "frequencias_percentuais <- prop.table(frequencias_absolutas) * 100\n",
        "frequencias_percentuais\n"
      ],
      "metadata": {
        "colab": {
          "base_uri": "https://localhost:8080/",
          "height": 69
        },
        "id": "cO31DsXl60Se",
        "outputId": "d1ac72eb-c171-417f-8356-e66598cfb22e"
      },
      "execution_count": 14,
      "outputs": [
        {
          "output_type": "display_data",
          "data": {
            "text/plain": [
              "\n",
              "   CLARO OI FIBRA  OSIRNET     VIVO \n",
              "    27.5     40.0     15.0     17.5 "
            ]
          },
          "metadata": {}
        }
      ]
    },
    {
      "cell_type": "code",
      "source": [
        "# Criar a tabela com as frequências\n",
        "tabela_frequencias <- data.frame(\n",
        "  Frequencia_Absoluta = frequencias_absolutas,\n",
        "  Frequencia_Relativa = frequencias_relativas,\n",
        "  Frequencia_Percentual = frequencias_percentuais\n",
        ")\n",
        "\n"
      ],
      "metadata": {
        "id": "mi-SXaEZ61U_"
      },
      "execution_count": 15,
      "outputs": []
    },
    {
      "cell_type": "code",
      "source": [
        "# Exibir a tabela\n",
        "print(tabela_frequencias)"
      ],
      "metadata": {
        "colab": {
          "base_uri": "https://localhost:8080/"
        },
        "id": "uqTV25GE62a-",
        "outputId": "3d0bc845-63dc-4e80-908b-5f560df5a328"
      },
      "execution_count": 16,
      "outputs": [
        {
          "output_type": "stream",
          "name": "stdout",
          "text": [
            "  Frequencia_Absoluta.Var1 Frequencia_Absoluta.Freq Frequencia_Relativa.Var1\n",
            "1                    CLARO                       11                    CLARO\n",
            "2                 OI FIBRA                       16                 OI FIBRA\n",
            "3                  OSIRNET                        6                  OSIRNET\n",
            "4                     VIVO                        7                     VIVO\n",
            "  Frequencia_Relativa.Freq Frequencia_Percentual.Var1\n",
            "1                    0.275                      CLARO\n",
            "2                    0.400                   OI FIBRA\n",
            "3                    0.150                    OSIRNET\n",
            "4                    0.175                       VIVO\n",
            "  Frequencia_Percentual.Freq\n",
            "1                       27.5\n",
            "2                       40.0\n",
            "3                       15.0\n",
            "4                       17.5\n"
          ]
        }
      ]
    }
  ]
}